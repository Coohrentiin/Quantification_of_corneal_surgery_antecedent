{
 "cells": [
  {
   "cell_type": "code",
   "execution_count": 1,
   "metadata": {},
   "outputs": [
    {
     "name": "stdout",
     "output_type": "stream",
     "text": [
      "c:\\Users\\csoub\\OneDrive\\Bureau\\3A\\Ensta\\Super projet\\Quantification_of_corneal_surgery_antecedent\n"
     ]
    }
   ],
   "source": [
    "from image_OCT import *\n",
    "from image_Quantification import *\n",
    "import os\n",
    "from os import listdir\n",
    "from os.path import isfile, join\n",
    "import pandas as pd\n",
    "import cv2\n",
    "\n",
    "dirname = os.getcwd()\n",
    "print(dirname)\n",
    "extension=\".jpg\""
   ]
  },
  {
   "cell_type": "code",
   "execution_count": 2,
   "metadata": {},
   "outputs": [
    {
     "name": "stdout",
     "output_type": "stream",
     "text": [
      "['1', 'POST', 'OP', 'M3_DUCHE_CHANTAL__78652_Cornea', 'Line_OD_28.jpg']\n"
     ]
    }
   ],
   "source": [
    "repertory=os.path.join(dirname, 'Data','data_Fuchs')\n",
    "files= [f for f in listdir(repertory) if isfile(join(repertory, f))]\n",
    "\n",
    "f=files[0]\n",
    "f=f.split(\" \")\n",
    "print(f)\n",
    "    "
   ]
  },
  {
   "cell_type": "code",
   "execution_count": 3,
   "metadata": {},
   "outputs": [
    {
     "name": "stdout",
     "output_type": "stream",
     "text": [
      "['M3', 'DUCHE', 'CHANTAL', '', '78652', 'CrossLine', 'OD', '28.jpg']\n",
      "['1789726', 'CLAUDE', 'MARIE-JOSE', '', '30468', 'CrossLine', 'OD', '40.jpg']\n",
      "['1789726', 'CLAUDE', 'MARIE-JOSE', '', '30468', 'PachymetryWide', 'OD', '41.jpg']\n",
      "['OP', 'BLATRIX', 'GENEVIEVE', '', '28501', 'CrossLine', 'OD', '31.jpg']\n",
      "['OP', 'CZYRYKOWSKI', 'Olga', '', '31265', 'CrossLine', 'OS', '35.jpg']\n",
      "['OP', 'DAUDU', 'MICHEL', '', '30990', 'CrossLine', 'OS', '45.jpg']\n",
      "['OP', 'mercereau', 'lionel', '', '31367', 'CrossLine', 'OS', '29.jpg']\n",
      "['OP', 'weinling', 'elisabeth', '', '31427', 'CrossLine', 'OS', '46.jpg']\n",
      "['OP', 'weinling', 'elisabeth', '', '31427', 'PachymetryWide', 'OS', '38.jpg']\n",
      "['M12', 'DUCHE', 'CHANTAL', '', '84746', 'CrossLine', 'OD', '36.jpg']\n",
      "['M1', 'BLATRIX', 'GENEVIEVE', '', '33349', 'CrossLine', 'OD', '36.jpg']\n",
      "['1789726', 'CLAUDE', 'MARIE-JOSE', '', '81802', 'CrossLine', 'OD', '34.jpg']\n",
      "['M3', 'CZYRYKOWSKI', 'Olga', '', '82394', 'CrossLine', 'OS', '23.jpg']\n",
      "['M3', 'DAUDU', 'MICHEL', '', '81875', 'CrossLine', 'OS', '45.jpg']\n",
      "['M9', 'mercereau', 'lionel', '', '85317', 'CrossLine', 'OS', '34.jpg']\n",
      "['M9', 'weinling', 'elisabeth', '', '84709', 'CrossLine', 'OS', '38.jpg']\n",
      "['M3', 'DAUDU', 'MICHEL', '', '81875', 'PachymetryWide', 'OS', '39.jpg']\n",
      "['M3', 'BLATRIX', 'GENEVIEVE', '', '77941', 'CrossLine', 'OD', '38.jpg']\n",
      "['M6', 'BLATRIX', 'GENEVIEVE', '', '81629', 'CrossLine', 'OD', '34.jpg']\n",
      "['M12', 'BLATRIX', 'GENEVIEVE', '', '85240', 'CrossLine', 'OD', '22.jpg']\n",
      "                                                 file  Month eye  \\\n",
      "0   1 POST OP M3_DUCHE_CHANTAL__78652_Cornea Line_...      3  OD   \n",
      "1   1 POST OP M3_DUCHE_CHANTAL__78652_Pachymetry_O...      3  OD   \n",
      "2   1 PRE OP 1789726_CLAUDE_MARIE-JOSE__30468_Corn...      0  OD   \n",
      "3   1 PRE OP 1789726_CLAUDE_MARIE-JOSE__30468_Pach...      0  OD   \n",
      "4   1 PRE OP_BLATRIX_GENEVIEVE__28501_Cornea Line_...      0  OD   \n",
      "5   1 PRE OP_BLATRIX_GENEVIEVE__28501_Pachymetry_O...      0  OD   \n",
      "6   1 PRE OP_CZYRYKOWSKI_Olga__31265_Cornea Line_O...      0  OS   \n",
      "7   1 PRE OP_CZYRYKOWSKI_Olga__31265_Pachymetry_OS...      0  OS   \n",
      "8   1 PRE OP_DAUDU_MICHEL__30990_Cornea Line_OS_45...      0  OS   \n",
      "9   1 PRE OP_DAUDU_MICHEL__30990_Pachymetry_OS_45.jpg      0  OS   \n",
      "10  1 PRE OP_mercereau_lionel__31367_Cornea Line_O...      0  OS   \n",
      "11  1 PRE OP_mercereau_lionel__31367_Pachymetry_OS...      0  OS   \n",
      "12  1 PRE OP_weinling_elisabeth__31427_Cornea Line...      0  OS   \n",
      "13  1 PRE OP_weinling_elisabeth__31427_PachymetryW...      0  OS   \n",
      "14  2 POST OP M12_DUCHE_CHANTAL__84746_Cornea Line...     12  OD   \n",
      "15  2 POST OP M12_DUCHE_CHANTAL__84746_Pachymetry_...     12  OD   \n",
      "16  2 POST OP M1_BLATRIX_GENEVIEVE__33349_Cornea L...      1  OD   \n",
      "17  2 POST OP M1_BLATRIX_GENEVIEVE__33349_Pachymet...      1  OD   \n",
      "18  2 POST OP M3 1789726_CLAUDE_MARIE-JOSE__81802_...      3  OD   \n",
      "19  2 POST OP M3 1789726_CLAUDE_MARIE-JOSE__81802_...      3  OD   \n",
      "20  2 POST OP M3_CZYRYKOWSKI_Olga__82394_Cornea Li...      3  OS   \n",
      "21  2 POST OP M3_CZYRYKOWSKI_Olga__82394_Pachymetr...      3  OS   \n",
      "22  2 POST OP M3_DAUDU_MICHEL__81875_Cornea Line_O...      3  OS   \n",
      "23  2 POST OP M9_mercereau_lionel__85317_Cornea Li...      9  OS   \n",
      "24  2 POST OP M9_mercereau_lionel__85317_Pachymetr...      9  OS   \n",
      "25  2 POST OP M9_weinling_elisabeth__84709_Cornea ...      9  OS   \n",
      "26  2 POST OP M9_weinling_elisabeth__84709_Pachyme...      9  OS   \n",
      "27  2 PRE OP M3_DAUDU_MICHEL__81875_PachymetryWide...      0  OS   \n",
      "28  3 POST OP M3_BLATRIX_GENEVIEVE__77941_Cornea L...      3  OD   \n",
      "29  3 POST OP M3_BLATRIX_GENEVIEVE__77941_Pachymet...      3  OD   \n",
      "30  3 POST OP M6_CLAUDE_MARIE-JOSE__85248_Pachymet...      6  OD   \n",
      "31  4 POST OP M6_BLATRIX_GENEVIEVE__81629_Cornea L...      6  OD   \n",
      "32  4 POST OP M6_BLATRIX_GENEVIEVE__81629_Pachymet...      6  OD   \n",
      "33  5 POST OP M12_BLATRIX_GENEVIEVE__85240_Cornea ...     12  OD   \n",
      "34  5 POST OP M12_BLATRIX_GENEVIEVE__85240_Pachyme...     12  OD   \n",
      "\n",
      "              type    name  \n",
      "0       CorneaLine  CHADUC  \n",
      "1       Pachymetry  CHADUC  \n",
      "2       CorneaLine  MARCLA  \n",
      "3   PachymetryWide  MARCLA  \n",
      "4       CorneaLine  GENBLA  \n",
      "5       Pachymetry  GENBLA  \n",
      "6       CorneaLine  OLGCZY  \n",
      "7       Pachymetry  OLGCZY  \n",
      "8       CorneaLine  MICDAU  \n",
      "9       Pachymetry  MICDAU  \n",
      "10      CorneaLine  LIOMER  \n",
      "11      Pachymetry  LIOMER  \n",
      "12      CorneaLine  ELIWEI  \n",
      "13  PachymetryWide  ELIWEI  \n",
      "14      CorneaLine  CHADUC  \n",
      "15      Pachymetry  CHADUC  \n",
      "16      CorneaLine  GENBLA  \n",
      "17      Pachymetry  GENBLA  \n",
      "18      CorneaLine  MARCLA  \n",
      "19      Pachymetry  MARCLA  \n",
      "20      CorneaLine  OLGCZY  \n",
      "21      Pachymetry  OLGCZY  \n",
      "22      CorneaLine  MICDAU  \n",
      "23      CorneaLine  LIOMER  \n",
      "24      Pachymetry  LIOMER  \n",
      "25      CorneaLine  ELIWEI  \n",
      "26      Pachymetry  ELIWEI  \n",
      "27  PachymetryWide  MICDAU  \n",
      "28      CorneaLine  GENBLA  \n",
      "29      Pachymetry  GENBLA  \n",
      "30      Pachymetry  MARCLA  \n",
      "31      CorneaLine  GENBLA  \n",
      "32      Pachymetry  GENBLA  \n",
      "33      CorneaLine  GENBLA  \n",
      "34      Pachymetry  GENBLA  \n"
     ]
    }
   ],
   "source": [
    "fuchs_data=[]\n",
    "\n",
    "for f in files:\n",
    "    f_split=f.split(\" \")\n",
    "    fuchs_patient=dict()\n",
    "    fuchs_patient[\"file\"]=f\n",
    "    try:\n",
    "        if f_split[1]==\"PRE\":\n",
    "            fuchs_patient[\"Month\"]=0\n",
    "        elif f_split[1]==\"POST\":\n",
    "            if f_split[3][0]==\"M\" and (len(f_split[3])==2 or f_split[3][2]==\"_\"):\n",
    "                fuchs_patient[\"Month\"]=int(f_split[3][1])\n",
    "                #\n",
    "            elif f_split[3][0]==\"M\" and (len(f_split[3])==3 or f_split[3][3]==\"_\"):\n",
    "                fuchs_patient[\"Month\"]=int(f_split[3][1:3])\n",
    "            else:\n",
    "                print(\"Not catched mounth post: \"+f,f_split)\n",
    "        else:\n",
    "            #\n",
    "            print(\"Not catched post/pre: \"+f,f_split)\n",
    "        name_type_eye=f_split[-1]\n",
    "        name_type_eye=name_type_eye.split(\"_\")\n",
    "        if name_type_eye[-2]==\"OD\":\n",
    "            fuchs_patient[\"eye\"]=\"OD\"\n",
    "        elif name_type_eye[-2]==\"OS\":\n",
    "            fuchs_patient[\"eye\"]=\"OS\"\n",
    "        else:\n",
    "            print(\"Not catched eye: \"+f,f_split)\n",
    "        if name_type_eye[-3]==\"Pachymetry\":\n",
    "            fuchs_patient[\"type\"]=\"Pachymetry\"\n",
    "        elif name_type_eye[-3]==\"PachymetryWide\":\n",
    "            fuchs_patient[\"type\"]=\"PachymetryWide\"\n",
    "            print(name_type_eye)\n",
    "        elif name_type_eye[-3]==\"Line\":\n",
    "            fuchs_patient[\"type\"]=\"CorneaLine\"\n",
    "            name_type_eye=(f_split[-2]).split(\"_\")+name_type_eye\n",
    "            name_type_eye[-4]=\"CrossLine\"\n",
    "            name_type_eye.remove('Line')\n",
    "            print(name_type_eye)\n",
    "        else:\n",
    "            print(\"Not catched type: \"+f,f_split)\n",
    "        fuchs_patient[\"name\"]=(name_type_eye[-6][0:3]).upper()+(name_type_eye[-7][0:3]).upper()\n",
    "        fuchs_data.append(fuchs_patient)\n",
    "    except:\n",
    "        print(\"Error with: \"+f,f_split)\n",
    "\n",
    "\n",
    "data=pd.DataFrame(fuchs_data)\n",
    "print(data)"
   ]
  },
  {
   "cell_type": "code",
   "execution_count": 9,
   "metadata": {},
   "outputs": [
    {
     "name": "stderr",
     "output_type": "stream",
     "text": [
      "C:\\Users\\csoub\\AppData\\Local\\Temp/ipykernel_26432/530060036.py:8: SettingWithCopyWarning: \n",
      "A value is trying to be set on a copy of a slice from a DataFrame\n",
      "\n",
      "See the caveats in the documentation: https://pandas.pydata.org/pandas-docs/stable/user_guide/indexing.html#returning-a-view-versus-a-copy\n",
      "  data_renamed[\"file\"][i]=name\n"
     ]
    }
   ],
   "source": [
    "n=len(data)\n",
    "data_renamed=data.copy()\n",
    "for i in range(n):\n",
    "    # data[\"file\"]\n",
    "    img=cv2.imread(os.path.join(dirname, 'Data','data_Fuchs',data[\"file\"][i]))\n",
    "    name=data[\"name\"][i]+\"_\"+data[\"eye\"][i]+\"_\"+str(data[\"Month\"][i])+\"_\"+data[\"type\"][i]\n",
    "    cv2.imwrite(os.path.join(dirname, 'Data','Fuchs_remamed',name)+extension,img)\n",
    "    data_renamed[\"file\"][i]=name"
   ]
  },
  {
   "cell_type": "code",
   "execution_count": 10,
   "metadata": {},
   "outputs": [
    {
     "name": "stdout",
     "output_type": "stream",
     "text": [
      "                          file  Month eye            type    name\n",
      "0       CHADUC_OD_3_CorneaLine      3  OD      CorneaLine  CHADUC\n",
      "1       CHADUC_OD_3_Pachymetry      3  OD      Pachymetry  CHADUC\n",
      "2       MARCLA_OD_0_CorneaLine      0  OD      CorneaLine  MARCLA\n",
      "3   MARCLA_OD_0_PachymetryWide      0  OD  PachymetryWide  MARCLA\n",
      "4       GENBLA_OD_0_CorneaLine      0  OD      CorneaLine  GENBLA\n",
      "5       GENBLA_OD_0_Pachymetry      0  OD      Pachymetry  GENBLA\n",
      "6       OLGCZY_OS_0_CorneaLine      0  OS      CorneaLine  OLGCZY\n",
      "7       OLGCZY_OS_0_Pachymetry      0  OS      Pachymetry  OLGCZY\n",
      "8       MICDAU_OS_0_CorneaLine      0  OS      CorneaLine  MICDAU\n",
      "9       MICDAU_OS_0_Pachymetry      0  OS      Pachymetry  MICDAU\n",
      "10      LIOMER_OS_0_CorneaLine      0  OS      CorneaLine  LIOMER\n",
      "11      LIOMER_OS_0_Pachymetry      0  OS      Pachymetry  LIOMER\n",
      "12      ELIWEI_OS_0_CorneaLine      0  OS      CorneaLine  ELIWEI\n",
      "13  ELIWEI_OS_0_PachymetryWide      0  OS  PachymetryWide  ELIWEI\n",
      "14     CHADUC_OD_12_CorneaLine     12  OD      CorneaLine  CHADUC\n",
      "15     CHADUC_OD_12_Pachymetry     12  OD      Pachymetry  CHADUC\n",
      "16      GENBLA_OD_1_CorneaLine      1  OD      CorneaLine  GENBLA\n",
      "17      GENBLA_OD_1_Pachymetry      1  OD      Pachymetry  GENBLA\n",
      "18      MARCLA_OD_3_CorneaLine      3  OD      CorneaLine  MARCLA\n",
      "19      MARCLA_OD_3_Pachymetry      3  OD      Pachymetry  MARCLA\n",
      "20      OLGCZY_OS_3_CorneaLine      3  OS      CorneaLine  OLGCZY\n",
      "21      OLGCZY_OS_3_Pachymetry      3  OS      Pachymetry  OLGCZY\n",
      "22      MICDAU_OS_3_CorneaLine      3  OS      CorneaLine  MICDAU\n",
      "23      LIOMER_OS_9_CorneaLine      9  OS      CorneaLine  LIOMER\n",
      "24      LIOMER_OS_9_Pachymetry      9  OS      Pachymetry  LIOMER\n",
      "25      ELIWEI_OS_9_CorneaLine      9  OS      CorneaLine  ELIWEI\n",
      "26      ELIWEI_OS_9_Pachymetry      9  OS      Pachymetry  ELIWEI\n",
      "27  MICDAU_OS_0_PachymetryWide      0  OS  PachymetryWide  MICDAU\n",
      "28      GENBLA_OD_3_CorneaLine      3  OD      CorneaLine  GENBLA\n",
      "29      GENBLA_OD_3_Pachymetry      3  OD      Pachymetry  GENBLA\n",
      "30      MARCLA_OD_6_Pachymetry      6  OD      Pachymetry  MARCLA\n",
      "31      GENBLA_OD_6_CorneaLine      6  OD      CorneaLine  GENBLA\n",
      "32      GENBLA_OD_6_Pachymetry      6  OD      Pachymetry  GENBLA\n",
      "33     GENBLA_OD_12_CorneaLine     12  OD      CorneaLine  GENBLA\n",
      "34     GENBLA_OD_12_Pachymetry     12  OD      Pachymetry  GENBLA\n",
      "None\n"
     ]
    }
   ],
   "source": [
    "print(data_renamed)\n",
    "out=data_renamed.to_pickle(os.path.join(dirname, 'Data','Fuchs_remamed','data_renamed.pkl'))\n",
    "print(out)"
   ]
  }
 ],
 "metadata": {
  "interpreter": {
   "hash": "63fd5069d213b44bf678585dea6b12cceca9941eaf7f819626cde1f2670de90d"
  },
  "kernelspec": {
   "display_name": "Python 3.9.7 64-bit (system)",
   "language": "python",
   "name": "python3"
  },
  "language_info": {
   "codemirror_mode": {
    "name": "ipython",
    "version": 3
   },
   "file_extension": ".py",
   "mimetype": "text/x-python",
   "name": "python",
   "nbconvert_exporter": "python",
   "pygments_lexer": "ipython3",
   "version": "3.9.7"
  },
  "orig_nbformat": 4
 },
 "nbformat": 4,
 "nbformat_minor": 2
}
