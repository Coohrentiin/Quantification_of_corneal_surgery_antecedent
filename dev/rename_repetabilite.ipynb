{
 "cells": [
  {
   "cell_type": "code",
   "execution_count": 13,
   "metadata": {},
   "outputs": [
    {
     "name": "stdout",
     "output_type": "stream",
     "text": [
      "c:\\Users\\csoub\\OneDrive\\Bureau\\3A\\Ensta\\Super projet\\Quantification_of_corneal_surgery_antecedent\n"
     ]
    }
   ],
   "source": [
    "import os\n",
    "from os import listdir\n",
    "from os.path import isfile, join\n",
    "import pandas as pd\n",
    "import cv2\n",
    "\n",
    "dirname = os.getcwd()\n",
    "print(dirname)\n",
    "extension=\".jpg\""
   ]
  },
  {
   "cell_type": "code",
   "execution_count": 42,
   "metadata": {},
   "outputs": [
    {
     "name": "stdout",
     "output_type": "stream",
     "text": [
      "['', 'beauruel', 'juliette', '', '104487', 'Cornea Line', 'OD', '2022-01-19', '12-39-36', 'F', '1996-07-11', '1.jpg'] BEAJUL_0.jpg\n",
      "['', 'beauruel', 'juliette', '', '104487', 'Cornea Line', 'OD', '2022-01-19', '12-40-13', 'F', '1996-07-11', '1.jpg'] BEAJUL_1.jpg\n",
      "['', 'beauruel', 'juliette', '', '104487', 'Cornea Line', 'OD', '2022-01-19', '12-40-32', 'F', '1996-07-11', '1.jpg'] BEAJUL_2.jpg\n",
      "['', 'beauruel', 'juliette', '', '104487', 'Cornea Line', 'OD', '2022-01-19', '12-40-53', 'F', '1996-07-11', '1.jpg'] BEAJUL_3.jpg\n",
      "['', 'beauruel', 'juliette', '', '104487', 'Cornea Line', 'OD', '2022-01-19', '12-41-22', 'F', '1996-07-11', '1.jpg'] BEAJUL_4.jpg\n",
      "['', 'DOUCET', 'EMMA', '', '104410', 'Cornea Line', 'OD', '2022-01-18', '10-10-41', 'F', '2000-07-14', '1.jpg'] DOUEMM_0.jpg\n",
      "['', 'DOUCET', 'EMMA', '', '104410', 'Cornea Line', 'OD', '2022-01-18', '10-10-59', 'F', '2000-07-14', '1.jpg'] DOUEMM_1.jpg\n",
      "['', 'DOUCET', 'EMMA', '', '104410', 'Cornea Line', 'OD', '2022-01-18', '10-11-19', 'F', '2000-07-14', '1.jpg'] DOUEMM_2.jpg\n",
      "['', 'DOUCET', 'EMMA', '', '104410', 'Cornea Line', 'OD', '2022-01-18', '10-11-39', 'F', '2000-07-14', '1.jpg'] DOUEMM_3.jpg\n",
      "['', 'DOUCET', 'EMMA', '', '104410', 'Cornea Line', 'OD', '2022-01-18', '10-11-58', 'F', '2000-07-14', '1.jpg'] DOUEMM_4.jpg\n",
      "['', 'FRIQUET', 'CHLOE', '', '104416', 'Cornea Line', 'OD', '2022-01-18', '10-35-00', 'F', '1994-01-29', '1.jpg'] FRICHL_0.jpg\n",
      "['', 'FRIQUET', 'CHLOE', '', '104416', 'Cornea Line', 'OD', '2022-01-18', '10-35-18', 'F', '1994-01-29', '1.jpg'] FRICHL_1.jpg\n",
      "['', 'FRIQUET', 'CHLOE', '', '104416', 'Cornea Line', 'OD', '2022-01-18', '10-35-38', 'F', '1994-01-29', '1.jpg'] FRICHL_2.jpg\n",
      "['', 'FRIQUET', 'CHLOE', '', '104416', 'Cornea Line', 'OD', '2022-01-18', '10-36-18', 'F', '1994-01-29', '1.jpg'] FRICHL_3.jpg\n",
      "['', 'FRIQUET', 'CHLOE', '', '104416', 'Cornea Line', 'OD', '2022-01-18', '10-36-34', 'F', '1994-01-29', '1.jpg'] FRICHL_4.jpg\n",
      "['', 'HUMBERT', 'LISA', '', '104406', 'Cornea Line', 'OD', '2022-01-18', '09-45-55', 'F', '1995-10-14', '1.jpg'] HUMLIS_0.jpg\n",
      "['', 'HUMBERT', 'LISA', '', '104406', 'Cornea Line', 'OD', '2022-01-18', '09-46-11', 'F', '1995-10-14', '1.jpg'] HUMLIS_1.jpg\n",
      "['', 'HUMBERT', 'LISA', '', '104406', 'Cornea Line', 'OD', '2022-01-18', '09-46-33', 'F', '1995-10-14', '1.jpg'] HUMLIS_2.jpg\n",
      "['', 'HUMBERT', 'LISA', '', '104406', 'Cornea Line', 'OD', '2022-01-18', '09-46-48', 'F', '1995-10-14', '1.jpg'] HUMLIS_3.jpg\n",
      "['', 'HUMBERT', 'LISA', '', '104406', 'Cornea Line', 'OD', '2022-01-18', '09-47-05', 'F', '1995-10-14', '1.jpg'] HUMLIS_4.jpg\n",
      "['', 'ITZKOWITCH', 'MARIE', '', '104500', 'Cornea Line', 'OD', '2022-01-19', '14-35-17', 'F', '1992-07-19', '1.jpg'] ITZMAR_0.jpg\n",
      "['', 'ITZKOWITCH', 'MARIE', '', '104500', 'Cornea Line', 'OD', '2022-01-19', '14-35-47', 'F', '1992-07-19', '1.jpg'] ITZMAR_1.jpg\n",
      "['', 'ITZKOWITCH', 'MARIE', '', '104500', 'Cornea Line', 'OD', '2022-01-19', '14-36-21', 'F', '1992-07-19', '1.jpg'] ITZMAR_2.jpg\n",
      "['', 'ITZKOWITCH', 'MARIE', '', '104500', 'Cornea Line', 'OD', '2022-01-19', '14-36-58', 'F', '1992-07-19', '1.jpg'] ITZMAR_3.jpg\n",
      "['', 'ITZKOWITCH', 'MARIE', '', '104500', 'Cornea Line', 'OD', '2022-01-19', '14-37-21', 'F', '1992-07-19', '1.jpg'] ITZMAR_4.jpg\n",
      "['', 'NAILI', 'NAIMA', '', '104420', 'Cornea Line', 'OD', '2022-01-18', '10-51-57', 'F', '1977-10-26', '1.jpg'] NAINAI_0.jpg\n",
      "['', 'NAILI', 'NAIMA', '', '104420', 'Cornea Line', 'OD', '2022-01-18', '10-52-15', 'F', '1977-10-26', '1.jpg'] NAINAI_1.jpg\n",
      "['', 'NAILI', 'NAIMA', '', '104420', 'Cornea Line', 'OD', '2022-01-18', '10-52-35', 'F', '1977-10-26', '1.jpg'] NAINAI_2.jpg\n",
      "['', 'NAILI', 'NAIMA', '', '104420', 'Cornea Line', 'OD', '2022-01-18', '10-52-56', 'F', '1977-10-26', '1.jpg'] NAINAI_3.jpg\n",
      "['', 'NAILI', 'NAIMA', '', '104420', 'Cornea Line', 'OD', '2022-01-18', '10-53-18', 'F', '1977-10-26', '1.jpg'] NAINAI_4.jpg\n",
      "['', 'peyrard', 'julie', '', '104507', 'Cornea Line', 'OD', '2022-01-19', '15-28-21', 'F', '2001-08-28', '1.jpg'] PEYJUL_0.jpg\n",
      "['', 'peyrard', 'julie', '', '104507', 'Cornea Line', 'OD', '2022-01-19', '15-28-43', 'F', '2001-08-28', '1.jpg'] PEYJUL_1.jpg\n",
      "['', 'peyrard', 'julie', '', '104507', 'Cornea Line', 'OD', '2022-01-19', '15-29-11', 'F', '2001-08-28', '1.jpg'] PEYJUL_2.jpg\n",
      "['', 'peyrard', 'julie', '', '104507', 'Cornea Line', 'OD', '2022-01-19', '15-29-36', 'F', '2001-08-28', '1.jpg'] PEYJUL_3.jpg\n",
      "['', 'peyrard', 'julie', '', '104507', 'Cornea Line', 'OD', '2022-01-19', '15-30-03', 'F', '2001-08-28', '1.jpg'] PEYJUL_4.jpg\n",
      "['', 'peyronnet', 'cecile', '', '104414', 'Cornea Line', 'OD', '2022-01-18', '10-26-12', 'F', '1989-09-02', '1.jpg'] PEYCEC_0.jpg\n",
      "['', 'peyronnet', 'cecile', '', '104414', 'Cornea Line', 'OD', '2022-01-18', '10-26-30', 'F', '1989-09-02', '1.jpg'] PEYCEC_1.jpg\n",
      "['', 'peyronnet', 'cecile', '', '104414', 'Cornea Line', 'OD', '2022-01-18', '10-26-48', 'F', '1989-09-02', '1.jpg'] PEYCEC_2.jpg\n",
      "['', 'peyronnet', 'cecile', '', '104414', 'Cornea Line', 'OD', '2022-01-18', '10-27-05', 'F', '1989-09-02', '1.jpg'] PEYCEC_3.jpg\n",
      "['', 'peyronnet', 'cecile', '', '104414', 'Cornea Line', 'OD', '2022-01-18', '10-27-28', 'F', '1989-09-02', '1.jpg'] PEYCEC_4.jpg\n",
      "['', 'SAUTERET', 'APOLLINE', '', '104417', 'Cornea Line', 'OD', '2022-01-18', '10-40-21', 'F', '2001-08-17', '1.jpg'] SAUAPO_0.jpg\n",
      "['', 'SAUTERET', 'APOLLINE', '', '104417', 'Cornea Line', 'OD', '2022-01-18', '10-40-43', 'F', '2001-08-17', '1.jpg'] SAUAPO_1.jpg\n",
      "['', 'SAUTERET', 'APOLLINE', '', '104417', 'Cornea Line', 'OD', '2022-01-18', '10-41-20', 'F', '2001-08-17', '1.jpg'] SAUAPO_2.jpg\n",
      "['', 'SAUTERET', 'APOLLINE', '', '104417', 'Cornea Line', 'OD', '2022-01-18', '10-41-47', 'F', '2001-08-17', '1.jpg'] SAUAPO_3.jpg\n",
      "['', 'SAUTERET', 'APOLLINE', '', '104417', 'Cornea Line', 'OD', '2022-01-18', '10-42-16', 'F', '2001-08-17', '1.jpg'] SAUAPO_4.jpg\n",
      "['', 'VILLETTE', 'Vincent', '', '104501', 'Cornea Line', 'OD', '2022-01-19', '14-42-16', 'M', '1987-09-08', '1.jpg'] VILVIN_0.jpg\n",
      "['', 'VILLETTE', 'Vincent', '', '104501', 'Cornea Line', 'OD', '2022-01-19', '14-42-32', 'M', '1987-09-08', '1.jpg'] VILVIN_1.jpg\n",
      "['', 'VILLETTE', 'Vincent', '', '104501', 'Cornea Line', 'OD', '2022-01-19', '14-42-58', 'M', '1987-09-08', '1.jpg'] VILVIN_2.jpg\n",
      "['', 'VILLETTE', 'Vincent', '', '104501', 'Cornea Line', 'OD', '2022-01-19', '14-43-15', 'M', '1987-09-08', '1.jpg'] VILVIN_3.jpg\n",
      "['', 'VILLETTE', 'Vincent', '', '104501', 'Cornea Line', 'OD', '2022-01-19', '14-43-33', 'M', '1987-09-08', '1.jpg'] VILVIN_4.jpg\n"
     ]
    }
   ],
   "source": [
    "repertory=os.path.join(dirname, 'Data','repetabilite_Healthy')\n",
    "files= [f for f in listdir(repertory) if isfile(join(repertory, f))]\n",
    "\n",
    "listnames=[]\n",
    "for i,f in enumerate(files):\n",
    "\t# f=files[0]\n",
    "\tnew_name=\"\"\n",
    "\tf=f.split(\"_\")\n",
    "\tid=(f[1][:3]+f[2][:3]).upper()\n",
    "\tlistnames.append(id)\n",
    "\tnew_name=id+\"_\"+str(len(np.where(np.array(listnames)==id)[0])-1)+f[-1][1:]\n",
    "\tprint(f,new_name)\n",
    "\timg=cv2.imread(os.path.join(dirname, 'Data','repetabilite_Healthy',files[i]))\n",
    "\tcv2.imwrite(os.path.join(dirname, 'Data','repetabilite_Healthy',new_name),img)\n",
    "\n",
    "    "
   ]
  },
  {
   "cell_type": "code",
   "execution_count": 32,
   "metadata": {},
   "outputs": [
    {
     "data": {
      "text/plain": [
       "5"
      ]
     },
     "execution_count": 32,
     "metadata": {},
     "output_type": "execute_result"
    }
   ],
   "source": [
    "len(np.where(np.array(listnames)=='BEAJUL')[0])"
   ]
  },
  {
   "cell_type": "code",
   "execution_count": 26,
   "metadata": {},
   "outputs": [
    {
     "data": {
      "text/plain": [
       "['BEAJUL',\n",
       " 'BEAJUL',\n",
       " 'BEAJUL',\n",
       " 'BEAJUL',\n",
       " 'BEAJUL',\n",
       " 'DOUEMM',\n",
       " 'DOUEMM',\n",
       " 'DOUEMM',\n",
       " 'DOUEMM',\n",
       " 'DOUEMM',\n",
       " 'FRICHL',\n",
       " 'FRICHL',\n",
       " 'FRICHL',\n",
       " 'FRICHL',\n",
       " 'FRICHL',\n",
       " 'HUMLIS',\n",
       " 'HUMLIS',\n",
       " 'HUMLIS',\n",
       " 'HUMLIS',\n",
       " 'HUMLIS',\n",
       " 'ITZMAR',\n",
       " 'ITZMAR',\n",
       " 'ITZMAR',\n",
       " 'ITZMAR',\n",
       " 'ITZMAR',\n",
       " 'NAINAI',\n",
       " 'NAINAI',\n",
       " 'NAINAI',\n",
       " 'NAINAI',\n",
       " 'NAINAI',\n",
       " 'PEYJUL',\n",
       " 'PEYJUL',\n",
       " 'PEYJUL',\n",
       " 'PEYJUL',\n",
       " 'PEYJUL',\n",
       " 'PEYCEC',\n",
       " 'PEYCEC',\n",
       " 'PEYCEC',\n",
       " 'PEYCEC',\n",
       " 'PEYCEC',\n",
       " 'SAUAPO',\n",
       " 'SAUAPO',\n",
       " 'SAUAPO',\n",
       " 'SAUAPO',\n",
       " 'SAUAPO',\n",
       " 'VILVIN',\n",
       " 'VILVIN',\n",
       " 'VILVIN',\n",
       " 'VILVIN',\n",
       " 'VILVIN']"
      ]
     },
     "execution_count": 26,
     "metadata": {},
     "output_type": "execute_result"
    }
   ],
   "source": [
    "listnames"
   ]
  }
 ],
 "metadata": {
  "interpreter": {
   "hash": "63fd5069d213b44bf678585dea6b12cceca9941eaf7f819626cde1f2670de90d"
  },
  "kernelspec": {
   "display_name": "Python 3.9.7 64-bit (system)",
   "language": "python",
   "name": "python3"
  },
  "language_info": {
   "codemirror_mode": {
    "name": "ipython",
    "version": 3
   },
   "file_extension": ".py",
   "mimetype": "text/x-python",
   "name": "python",
   "nbconvert_exporter": "python",
   "pygments_lexer": "ipython3",
   "version": "3.9.7"
  },
  "orig_nbformat": 4
 },
 "nbformat": 4,
 "nbformat_minor": 2
}
