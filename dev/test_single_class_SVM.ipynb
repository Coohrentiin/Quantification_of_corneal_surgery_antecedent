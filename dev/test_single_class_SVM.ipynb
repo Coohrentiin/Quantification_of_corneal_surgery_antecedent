{
 "cells": [
  {
   "cell_type": "markdown",
   "metadata": {},
   "source": [
    "# SVM single class to detect anomalies \n",
    "Detect anomaly in a dataset by using the One-class SVM method in Python."
   ]
  },
  {
   "cell_type": "code",
   "execution_count": 1,
   "metadata": {},
   "outputs": [
    {
     "name": "stdout",
     "output_type": "stream",
     "text": [
      "c:\\Users\\csoub\\OneDrive\\Bureau\\3A\\Ensta\\Super projet\\Quantification_of_corneal_surgery_antecedent\n"
     ]
    }
   ],
   "source": [
    "from src.image_OCT import *\n",
    "from sklearn.model_selection import cross_val_score\n",
    "from src.image_Quantification_3 import *\n",
    "import math \n",
    "from sklearn import svm\n",
    "from sklearn.decomposition import PCA\n",
    "from sklearn.metrics import confusion_matrix\n",
    "from sklearn.metrics import accuracy_score\n",
    "import seaborn as sns\n",
    "from sklearn.svm import OneClassSVM\n",
    "import warnings\n",
    "warnings.filterwarnings(\"ignore\")\n",
    "\n",
    "dirname = os.getcwd()\n",
    "print(dirname)\n",
    "savefold=os.path.join(dirname, 'Data\\Figure\\\\') # \"C:/Users/csoub/OneDrive/Bureau/3A/Ensta/Super projet/Algo_Maelle/Data/Figure/\"\n",
    "extension=\".png\"\n",
    "%matplotlib inline\n"
   ]
  },
  {
   "cell_type": "code",
   "execution_count": 2,
   "metadata": {},
   "outputs": [],
   "source": [
    "filepathname_haze1=os.path.join(dirname, 'Data','HAZE','haze 1.jpg')\n",
    "filepathname_haze2=os.path.join(dirname, 'Data','HAZE','haze 3.jpg')\n",
    "filepathname_healthy1=os.path.join(dirname, 'Data','Healthy','23923_BOULIS_OD.jpg')\n",
    "filepathname_healthy2=os.path.join(dirname, 'Data','VILBERT_Maelle','test.jpg')\n",
    "filepathname_fuchs1=os.path.join(dirname, 'Data','Fuchs_2','VANLUD_OD_6_Line.jpg')\n",
    "# filepathname_fuchs2=os.path.join(dirname, 'Data','Fuchs_2','FAIJEA_OS_1_Line.jpg')\n",
    "filepathname_fuchs2=os.path.join(dirname, 'Data','Fuchs_2','SELNIC_OS_0_Line.jpg')\n",
    "\n",
    "# filepathname=os.path.join(dirname, 'Data','Healthy','80608_REZAZK_OS.jpg')\n",
    "test_ex=[filepathname_haze1,filepathname_haze2,filepathname_healthy1,filepathname_healthy2,filepathname_fuchs1,filepathname_fuchs2]\n",
    "test_type=[\"haze1\",\"haze2\",\"healthy1\",\"healthy2\",\"fuchs1\",'fuchs2']"
   ]
  },
  {
   "cell_type": "code",
   "execution_count": 3,
   "metadata": {},
   "outputs": [
    {
     "name": "stdout",
     "output_type": "stream",
     "text": [
      "Succesfully imported\n"
     ]
    }
   ],
   "source": [
    "# Compute or import dataset\n",
    "move=True\n",
    "useExpCorr=False\n",
    "# folder=\"exp_correction/\"\n",
    "# append=\"_mov_win-exp_corr_\"\n",
    "append=\"_mov_win_\"\n",
    "folder=\"\"\n",
    "eliminate=0\n",
    "\n",
    "try:\n",
    "\tdata_healthy = pd.read_pickle(\"./Dataset/\"+folder+\"data_set_Q3_healthy\"+append+\".pkl\")\n",
    "except:\n",
    "\trepertory_healthy=os.path.join(dirname, 'Data','Healthy')\n",
    "\thealthy_value=1 #healthy\n",
    "\tdata_healthy=create_new_dataset(repertory_healthy,healthy_value,movingWin=move,eliminate=eliminate,useExpCorr=useExpCorr)\n",
    "\tdata_healthy.to_pickle(\"./Dataset/data_set_Q3_healthy\"+append+\".pkl\")\n",
    " \n",
    "try:\n",
    "\tdata_healthy_2 = pd.read_pickle(\"./Dataset/\"+folder+\"data_set_Q3_healthy_2\"+append+\".pkl\")\n",
    "except:\n",
    "\trepertory_healthy_2=os.path.join(dirname, 'Data','Healthy_2')\n",
    "\thealthy_value=1 #healthy\n",
    "\tdata_healthy_2=create_new_dataset(repertory_healthy_2,healthy_value,movingWin=move,eliminate=eliminate,useExpCorr=useExpCorr)\n",
    "\tdata_healthy_2.to_pickle(\"./Dataset/data_set_Q3_healthy_2\"+append+\".pkl\")\n",
    "try:\n",
    "\tdata_haze = pd.read_pickle(\"./Dataset/\"+folder+\"data_set_Q3_haze\"+append+\".pkl\")\n",
    "except:\n",
    "\trepertory_haze=os.path.join(dirname, 'Data','HAZE')\n",
    "\thealthy_value=0 #patho\n",
    "\tdata_haze=create_new_dataset(repertory_haze,healthy_value,movingWin=move,eliminate=eliminate,useExpCorr=useExpCorr)\n",
    "\tdata_haze.to_pickle(\"./Dataset/data_set_Q3_haze\"+append+\".pkl\")\n",
    "\n",
    "try:\n",
    "\tdata_haze_2 = pd.read_pickle(\"./Dataset/\"+folder+\"data_set_Q3_haze_2\"+append+\".pkl\")\n",
    "except:\n",
    "\trepertory_haze_2=os.path.join(dirname, 'Data','HAZE_2')\n",
    "\thealthy_value=0 #patho\n",
    "\tdata_haze_2=create_new_dataset(repertory_haze_2,healthy_value,movingWin=move,eliminate=eliminate,useExpCorr=useExpCorr)\n",
    "\tdata_haze_2.to_pickle(\"./Dataset/data_set_Q3_haze_2\"+append+\".pkl\")\n",
    "\n",
    "try:\n",
    "\tdata_fuchs = pd.read_pickle(\"./Dataset/\"+folder+\"data_set_Q3_fuchs\"+append+\".pkl\")\n",
    "except:\n",
    "\trepertory_fuchs=os.path.join(dirname, 'Data','Fuchs_2')\n",
    "\thealthy_value=2 #fushs\n",
    "\tdata_fuchs=create_new_dataset(repertory_fuchs,healthy_value,movingWin=move,eliminate=eliminate,useExpCorr=useExpCorr)\n",
    "\tdata_fuchs.to_pickle(\"./Dataset/data_set_Q3_fuchs\"+append+\".pkl\")\n",
    "\n",
    "try:\n",
    "\tdata_fuchs_rep = pd.read_pickle(\"./Dataset/\"+folder+\"data_set_Q3_fuchs_rep\"+append+\".pkl\") \n",
    "except:\n",
    "\trepertory_fuchs_rep=os.path.join(dirname, 'Data','repetabilite_FuchsDMEK')\n",
    "\thealthy_value=2 #fushs\n",
    "\tdata_fuchs_rep=create_new_dataset(repertory_fuchs_rep,healthy_value,movingWin=move,eliminate=eliminate,useExpCorr=useExpCorr)\n",
    "\tdata_fuchs_rep.to_pickle(\"./Dataset/data_set_Q3_fuchs_rep\"+append+\".pkl\")\n",
    "\n",
    "print(\"Succesfully imported\")"
   ]
  },
  {
   "cell_type": "code",
   "execution_count": 4,
   "metadata": {},
   "outputs": [],
   "source": [
    "# selection = ['Sigma', 'Mean', 'Beta','IntensityPeak'] #, 'MSE','AreaRatio', #'PeakWidth', 'Sigma', 'DataCov', 'Mean', 'MSE', 'AreaRatio', 'Alpha','Beta', 'IntensityPeak', 'Healthy', 'Origin'\n",
    "# selection = ['Sigma', 'Mean', 'Beta','IntensityPeak','MSE','AreaRatio']\n",
    "selection = ['PeakWidth', 'Sigma', 'DataCov', 'Mean', 'MSE', 'AreaRatio', 'Alpha','Beta', 'IntensityPeak']\n",
    "# selct=False\n",
    "# if selct:\n",
    "nb_param=len(selection)\n",
    "data_healthy_2=data_healthy_2.filter(selection+list(data_fuchs.columns[9:]),axis=1)\n",
    "data_haze_2=data_haze_2.filter(selection+list(data_fuchs.columns[9:]),axis=1)\n",
    "data_fuchs=data_fuchs.filter(selection+list(data_fuchs.columns[9:]),axis=1)\n",
    "# selection=['Sigma', 'Mean', 'MSE','AreaRatio', 'Beta','IntensityPeak']\n",
    "# else:\n",
    "#     nb_param="
   ]
  },
  {
   "cell_type": "code",
   "execution_count": 5,
   "metadata": {},
   "outputs": [
    {
     "name": "stdout",
     "output_type": "stream",
     "text": [
      "Total number of data:166 splited in train:132 and test:34\n",
      "\t\tNumber of healthy in   dataset:166 (100%) train:132 (100%) test:34 (100%)\n",
      "\t\tNumber of haze    in   dataset:0 (0%) train:0 (0%) test:0 (0%)\n",
      "\t\tNumber of fuchs   in   dataset:0 (0%) train:0 (0%) test:0 (0%)\n"
     ]
    }
   ],
   "source": [
    "# Create learning DataSet\n",
    "data=pd.concat([data_healthy_2],ignore_index=True)\n",
    "# data=pd.concat([data_healthy_2,data_fuchs])\n",
    "# data=data_healthy\n",
    "# data=pd.concat([data_healthy,data_haze])\n",
    "# data\n",
    "data_copy=data.drop([\"Healthy\",\"Origin\"],axis=1)\n",
    "# data_copy=pd.DataFrame(np.real(data_copy))\n",
    "# data_copy=(data_copy-np.mean(data_copy,0))/np.std(data_copy,0)\n",
    "\n",
    "new_data=data_copy\n",
    "new_data[\"Healthy\"]=data[\"Healthy\"]\n",
    "from sklearn.model_selection import train_test_split\n",
    "train, test = train_test_split(new_data, test_size=0.2)\n",
    "\n",
    "ytrain=train[\"Healthy\"]\n",
    "Xtrain=train.drop([\"Healthy\"],axis=1)\n",
    "\n",
    "ytest=test[\"Healthy\"]\n",
    "Xtest=test.drop([\"Healthy\"],axis=1)\n",
    "\n",
    "print(\"Total number of data:{:.0f} splited in train:{:.0f} and test:{:.0f}\".format(len(data),len(ytrain),len(ytest)))\n",
    "print(\"\t\tNumber of healthy in   dataset:{:.0f} ({:.0f}%) train:{:.0f} ({:.0f}%) test:{:.0f} ({:.0f}%)\".format(np.sum(data[\"Healthy\"]==1),(np.sum(data[\"Healthy\"]==1)/len(data[\"Healthy\"]==1)*100),np.sum(ytrain==1),(np.sum(ytrain==1)/len(ytrain)*100),np.sum(ytest==1),(np.sum(ytest==1)/len(ytest)*100)))\n",
    "print(\"\t\tNumber of haze    in   dataset:{:.0f} ({:.0f}%) train:{:.0f} ({:.0f}%) test:{:.0f} ({:.0f}%)\".format(np.sum(data[\"Healthy\"]==0),(np.sum(data[\"Healthy\"]==0)/len(data[\"Healthy\"]==0)*100),np.sum(ytrain==0),(np.sum(ytrain==0)/len(ytrain)*100),np.sum(ytest==0),(np.sum(ytest==0)/len(ytest)*100)))\n",
    "print(\"\t\tNumber of fuchs   in   dataset:{:.0f} ({:.0f}%) train:{:.0f} ({:.0f}%) test:{:.0f} ({:.0f}%)\".format(np.sum(data[\"Healthy\"]==2),(np.sum(data[\"Healthy\"]==2)/len(data[\"Healthy\"]==2)*100),np.sum(ytrain==2),(np.sum(ytrain==2)/len(ytrain)*100),np.sum(ytest==2),(np.sum(ytest==2)/len(ytest)*100)))\n",
    "# ytrain=(ytrain==1)*1\n",
    "# ytest=(ytest==1)*1\n",
    "# ytest[\"Healthy\"]=(ytest[\"Healthy\"]==1)*1\n",
    "# new_data[\"Healthy\"]=data[\"Healthy\"]"
   ]
  },
  {
   "cell_type": "markdown",
   "metadata": {},
   "source": [
    "## Training model"
   ]
  },
  {
   "cell_type": "code",
   "execution_count": 6,
   "metadata": {},
   "outputs": [
    {
     "data": {
      "text/plain": [
       "Text(0.5, 1.0, 'kernel')"
      ]
     },
     "execution_count": 6,
     "metadata": {},
     "output_type": "execute_result"
    },
    {
     "data": {
      "image/png": "[encoded data removed]",
      "text/plain": [
       "<Figure size 1800x360 with 5 Axes>"
      ]
     },
     "metadata": {
      "needs_background": "light"
     },
     "output_type": "display_data"
    }
   ],
   "source": [
    "def train_svm_oneclass(Xtrain,gamma=0.0005,nu=0.005,degree=6,tol=10**(-3),kernel='poly'):\n",
    "\tclf = OneClassSVM(kernel=kernel,degree=degree, tol=tol,gamma=gamma, nu=nu,verbose=False)\n",
    "\tclf.fit(Xtrain)\n",
    "\tpred = clf.predict(Xtrain)\n",
    "\tscore = np.sum(pred==1)/len(pred)\n",
    "\treturn(score)\n",
    "\n",
    "fig,ax=plt.subplots(1,5,figsize=(25,5))\n",
    "\n",
    "gamma_v=np.linspace(0.0001,0.002,100)\t\n",
    "nu_v=np.linspace(0.001,0.01,100)\t\n",
    "degree_v=np.arange(2,10,1)\t\n",
    "tol_v=[10**(-3),10**(-4),10**(-5),10**(-6),10**(-7),10**(-8),10**(-9)]\n",
    "\n",
    "score=[]\n",
    "for gamma in gamma_v:\n",
    "    score.append(train_svm_oneclass(Xtrain,gamma=gamma))\n",
    "ax[0].plot(gamma_v,score)\n",
    "ax[0].set_title(\"gamma\")\n",
    "\n",
    "score=[]\n",
    "for nu in nu_v:\n",
    "    score.append(train_svm_oneclass(Xtrain,nu=nu))\n",
    "ax[1].plot(nu_v,score)\n",
    "ax[1].set_title(\"nu\")\n",
    "\n",
    "score=[]\n",
    "for degree in degree_v:\n",
    "    score.append(train_svm_oneclass(Xtrain,degree=degree))\n",
    "ax[2].plot(degree_v,score)\n",
    "ax[2].set_title(\"degree\")\n",
    "\n",
    "score=[]\n",
    "for tol in tol_v:\n",
    "    score.append(train_svm_oneclass(Xtrain,tol=tol))\n",
    "plt.xscale(\"log\")\n",
    "ax[3].plot(tol_v,score)\n",
    "ax[3].set_title(\"tolerence\")\n",
    "\n",
    "kernel_v=['linear', 'poly', 'rbf', 'sigmoid']\n",
    "score=[]\n",
    "for ker in kernel_v:\n",
    "    score.append(train_svm_oneclass(Xtrain,kernel=ker))\n",
    "ax[4].set_xscale(\"log\")\n",
    "ax[4].plot(kernel_v,score)\n",
    "ax[4].set_title(\"kernel\")"
   ]
  },
  {
   "cell_type": "code",
   "execution_count": 17,
   "metadata": {},
   "outputs": [
    {
     "name": "stdout",
     "output_type": "stream",
     "text": [
      "1.0\n"
     ]
    }
   ],
   "source": [
    "clf = OneClassSVM(kernel='poly',degree=5, tol=10**(-3),gamma=0.0005, nu=0.005,verbose=False)\n",
    "clf.fit(Xtrain)\n",
    "pred = clf.predict(Xtrain)\n",
    "score = np.sum(pred==1)/len(pred)\n",
    "print(score)"
   ]
  },
  {
   "cell_type": "code",
   "execution_count": 18,
   "metadata": {},
   "outputs": [
    {
     "data": {
      "text/plain": [
       "Text(0, 0.5, 'arbitrary Y axis (23%)')"
      ]
     },
     "execution_count": 18,
     "metadata": {},
     "output_type": "execute_result"
    },
    {
     "data": {
      "image/png": "[encoded data removed]",
      "text/plain": [
       "<Figure size 432x288 with 1 Axes>"
      ]
     },
     "metadata": {
      "needs_background": "light"
     },
     "output_type": "display_data"
    }
   ],
   "source": [
    "from sklearn.decomposition import PCA\n",
    "data_copy=data.drop([\"Healthy\",\"Origin\"],axis=1)\n",
    "data_copy=(data_copy-np.mean(data_copy,0))/np.std(data_copy,0)\n",
    "N=len(data_copy)\n",
    "K=len(data_copy.columns)\n",
    "pca = PCA()\n",
    "pca.fit(data_copy)\n",
    "\n",
    "def get_pca_XY(Xmatrix,data_copy,pca):\n",
    "    Xmatrix=(Xmatrix-np.mean(data_copy,0))/np.std(data_copy,0)\n",
    "    X=np.sum(Xmatrix*pca.components_[0],axis=1)\n",
    "    Y=np.sum(Xmatrix*pca.components_[1],axis=1)\n",
    "    return(X,Y)\n",
    "\n",
    "plt.figure()\n",
    "X_detected=Xtrain.iloc[ pred==1,:]\n",
    "X,Y = get_pca_XY(X_detected,data_copy,pca)\n",
    "plt.scatter(X,Y,color='blue')\n",
    "X_notdetected=Xtrain.iloc[ pred!=1,:]\n",
    "X,Y = get_pca_XY(X_notdetected,data_copy,pca)\n",
    "plt.scatter(X,Y,color='red')\n",
    "plt.xlabel(\"arbitrary X axis ({:.0f}%)\".format(pca.explained_variance_ratio_[0]*100))\n",
    "plt.ylabel(\"arbitrary Y axis ({:.0f}%)\".format(pca.explained_variance_ratio_[1]*100))"
   ]
  },
  {
   "cell_type": "markdown",
   "metadata": {},
   "source": [
    "## Validation: "
   ]
  },
  {
   "cell_type": "code",
   "execution_count": 19,
   "metadata": {},
   "outputs": [
    {
     "name": "stdout",
     "output_type": "stream",
     "text": [
      "0.9705882352941176\n"
     ]
    }
   ],
   "source": [
    "pred = clf.predict(Xtest)\n",
    "score = np.sum(pred==1)/len(pred)\n",
    "print(score)"
   ]
  },
  {
   "cell_type": "markdown",
   "metadata": {},
   "source": [
    "## Cross Validation"
   ]
  },
  {
   "cell_type": "code",
   "execution_count": 20,
   "metadata": {},
   "outputs": [
    {
     "name": "stdout",
     "output_type": "stream",
     "text": [
      "Averaged accuracy: 99.3%\n",
      "[1.         0.92857143 1.         1.         1.         1.\n",
      " 1.         1.         1.         1.        ]\n"
     ]
    }
   ],
   "source": [
    "scores = cross_val_score(estimator=clf, X=Xtrain, y=np.ones(Xtrain.shape[0]), cv=10, scoring='accuracy')\n",
    "print(\"Averaged accuracy: {:.1f}%\".format(100*np.mean(scores)))\n",
    "print(scores)"
   ]
  },
  {
   "cell_type": "markdown",
   "metadata": {},
   "source": [
    "## What about injecting fuchs or haze ?"
   ]
  },
  {
   "cell_type": "code",
   "execution_count": 21,
   "metadata": {},
   "outputs": [
    {
     "name": "stdout",
     "output_type": "stream",
     "text": [
      "Accuracy: 0.63%\n"
     ]
    }
   ],
   "source": [
    "data=data_fuchs\n",
    "data_copy=data.drop(data.columns[nb_param:],axis=1)\n",
    "\n",
    "new_data=data_copy\n",
    "new_data[\"Healthy\"]=data[\"Healthy\"]\n",
    "\n",
    "y=new_data[\"Healthy\"]\n",
    "X=new_data.drop([\"Healthy\"],axis=1)\n",
    "\n",
    "y_pred = clf.predict(X)\n",
    "print(\"Accuracy: {:.2f}%\".format(np.sum(y_pred == -1)/len(y_pred)*100))\n",
    "\n",
    "# proba = clf.predict_proba(X)"
   ]
  },
  {
   "cell_type": "code",
   "execution_count": 22,
   "metadata": {},
   "outputs": [
    {
     "name": "stdout",
     "output_type": "stream",
     "text": [
      "Accuracy: 0.00%\n"
     ]
    }
   ],
   "source": [
    "data=data_haze_2\n",
    "data_copy=data.drop(data.columns[nb_param:],axis=1)\n",
    "\n",
    "new_data=data_copy\n",
    "new_data[\"Healthy\"]=data[\"Healthy\"]\n",
    "\n",
    "y=new_data[\"Healthy\"]\n",
    "X=new_data.drop([\"Healthy\"],axis=1)\n",
    "\n",
    "y_pred = clf.predict(X)\n",
    "print(\"Accuracy: {:.2f}%\".format(np.sum(y_pred == -1)/len(y_pred)*100))"
   ]
  }
 ],
 "metadata": {
  "interpreter": {
   "hash": "63fd5069d213b44bf678585dea6b12cceca9941eaf7f819626cde1f2670de90d"
  },
  "kernelspec": {
   "display_name": "Python 3.9.7 64-bit (system)",
   "language": "python",
   "name": "python3"
  },
  "language_info": {
   "codemirror_mode": {
    "name": "ipython",
    "version": 3
   },
   "file_extension": ".py",
   "mimetype": "text/x-python",
   "name": "python",
   "nbconvert_exporter": "python",
   "pygments_lexer": "ipython3",
   "version": "3.9.7"
  },
  "orig_nbformat": 4
 },
 "nbformat": 4,
 "nbformat_minor": 2
}
