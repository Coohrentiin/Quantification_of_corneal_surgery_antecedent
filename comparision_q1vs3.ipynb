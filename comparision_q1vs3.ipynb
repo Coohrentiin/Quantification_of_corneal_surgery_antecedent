{
 "cells": [
  {
   "cell_type": "code",
   "execution_count": 1,
   "metadata": {},
   "outputs": [
    {
     "name": "stdout",
     "output_type": "stream",
     "text": [
      "c:\\Users\\csoub\\OneDrive\\Bureau\\3A\\Ensta\\Super projet\\Quantification_of_corneal_surgery_antecedent\n"
     ]
    }
   ],
   "source": [
    "from src.image_Quantification_3 import *\n",
    "from src.image_Quantification_1 import *\n",
    "from src.image_OCT import *\n",
    "import math \n",
    "from sklearn import svm\n",
    "from sklearn.decomposition import PCA\n",
    "import warnings\n",
    "warnings.filterwarnings(\"ignore\")\n",
    "\n",
    "dirname = os.getcwd()\n",
    "print(dirname)\n",
    "savefold=os.path.join(dirname, 'Data\\Figure\\\\') # \"C:/Users/csoub/OneDrive/Bureau/3A/Ensta/Super projet/Algo_Maelle/Data/Figure/\"\n",
    "extension=\".png\"\n",
    "%matplotlib inline"
   ]
  },
  {
   "cell_type": "code",
   "execution_count": 2,
   "metadata": {},
   "outputs": [],
   "source": [
    "filepathname_haze1=os.path.join(dirname, 'Data','HAZE','haze 1.jpg')\n",
    "filepathname_haze2=os.path.join(dirname, 'Data','HAZE','haze 3.jpg')\n",
    "filepathname_healthy1=os.path.join(dirname, 'Data','Healthy','23923_BOULIS_OD.jpg')\n",
    "filepathname_healthy2=os.path.join(dirname, 'Data','VILBERT_Maelle','test.jpg')\n",
    "filepathname_fuchs1=os.path.join(dirname, 'Data','Fuchs_2','VANLUD_OD_6_Line.jpg')\n",
    "# filepathname_fuchs2=os.path.join(dirname, 'Data','Fuchs_2','FAIJEA_OS_1_Line.jpg')\n",
    "filepathname_fuchs2=os.path.join(dirname, 'Data','Fuchs_2','SELNIC_OS_0_Line.jpg')\n",
    "\n",
    "# filepathname=os.path.join(dirname, 'Data','Healthy','80608_REZAZK_OS.jpg')\n",
    "test_ex=[filepathname_haze1,filepathname_haze2,filepathname_healthy1,filepathname_healthy2,filepathname_fuchs1,filepathname_fuchs2]\n",
    "test_type=[\"haze1\",\"haze2\",\"healthy1\",\"healthy2\",\"fuchs1\",'fuchs2']"
   ]
  },
  {
   "cell_type": "code",
   "execution_count": 3,
   "metadata": {},
   "outputs": [],
   "source": [
    "im=image_OCT(filepathname_healthy1)\n",
    "im.AutoTreatment()\n",
    "\n",
    "im_Q3=image_Quantification_3(im,movingWin=True,eliminate=0)\n",
    "im_Q1=image_Quantification(im)"
   ]
  },
  {
   "cell_type": "code",
   "execution_count": 4,
   "metadata": {},
   "outputs": [
    {
     "data": {
      "text/plain": [
       "{'PeakWidth': 29.37749860724284,\n",
       " 'Sigma': 6.70744203128892,\n",
       " 'DataCov': 0.011095023798251271,\n",
       " 'Mean': 56.586334858430824,\n",
       " 'MSE': 0.07152731402502335,\n",
       " 'AreaRatio': 0.033430368653183745,\n",
       " 'Alpha': 0.8001028152431414,\n",
       " 'Beta': 0.15722925304520813,\n",
       " 'IntensityPeak': 0.501435996762995}"
      ]
     },
     "execution_count": 4,
     "metadata": {},
     "output_type": "execute_result"
    }
   ],
   "source": [
    "im_Q3.parameters"
   ]
  },
  {
   "cell_type": "code",
   "execution_count": 5,
   "metadata": {},
   "outputs": [
    {
     "data": {
      "text/plain": [
       "{'PeakWidth': 25.998,\n",
       " 'Sigma': 5.538958761594171,\n",
       " 'DataCov': 0.0023477625586082788,\n",
       " 'Mean': 12.793649939153362,\n",
       " 'MSE': 0.062446290931450626,\n",
       " 'AreaRatio': 0.014643426974165865}"
      ]
     },
     "execution_count": 5,
     "metadata": {},
     "output_type": "execute_result"
    }
   ],
   "source": [
    "im_Q1.parameters"
   ]
  },
  {
   "cell_type": "code",
   "execution_count": 6,
   "metadata": {},
   "outputs": [
    {
     "data": {
      "text/plain": [
       "718"
      ]
     },
     "execution_count": 6,
     "metadata": {},
     "output_type": "execute_result"
    }
   ],
   "source": [
    "im_Q3.count"
   ]
  },
  {
   "cell_type": "code",
   "execution_count": 7,
   "metadata": {},
   "outputs": [
    {
     "data": {
      "text/plain": [
       "718"
      ]
     },
     "execution_count": 7,
     "metadata": {},
     "output_type": "execute_result"
    }
   ],
   "source": [
    "im_Q3.N"
   ]
  },
  {
   "cell_type": "code",
   "execution_count": 8,
   "metadata": {},
   "outputs": [
    {
     "data": {
      "text/plain": [
       "718"
      ]
     },
     "execution_count": 8,
     "metadata": {},
     "output_type": "execute_result"
    }
   ],
   "source": [
    "im_Q3.N_p"
   ]
  },
  {
   "cell_type": "code",
   "execution_count": 9,
   "metadata": {},
   "outputs": [
    {
     "data": {
      "text/plain": [
       "0"
      ]
     },
     "execution_count": 9,
     "metadata": {},
     "output_type": "execute_result"
    }
   ],
   "source": [
    "im_Q3.missed"
   ]
  }
 ],
 "metadata": {
  "interpreter": {
   "hash": "63fd5069d213b44bf678585dea6b12cceca9941eaf7f819626cde1f2670de90d"
  },
  "kernelspec": {
   "display_name": "Python 3.9.7 64-bit (system)",
   "language": "python",
   "name": "python3"
  },
  "language_info": {
   "codemirror_mode": {
    "name": "ipython",
    "version": 3
   },
   "file_extension": ".py",
   "mimetype": "text/x-python",
   "name": "python",
   "nbconvert_exporter": "python",
   "pygments_lexer": "ipython3",
   "version": "3.9.7"
  },
  "orig_nbformat": 4
 },
 "nbformat": 4,
 "nbformat_minor": 2
}
